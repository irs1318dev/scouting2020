{
 "cells": [
  {
   "cell_type": "markdown",
   "metadata": {
    "hide_input": true
   },
   "source": [
    "# FRC Event Settings -- IRS Scouting System\n",
    "When running this notebook for the first time, select *Cell->Run All* from the Notebook menu."
   ]
  },
  {
   "cell_type": "code",
   "execution_count": 1,
   "metadata": {
    "hide_input": true,
    "init_cell": true,
    "scrolled": true
   },
   "outputs": [],
   "source": [
    "# Cell 1\n",
    "import json\n",
    "\n",
    "import IPython.display\n",
    "import ipywidgets as widgets\n",
    "import pandas\n",
    "\n",
    "import server.model.event as sm_event\n",
    "import server.model.firstapi as sm_firstapi\n",
    "import server.season.s2018.api_measures as s2018_api\n",
    "import server.view.excel as sv_excel\n",
    "import server.view.dataframes as sv_dataframes"
   ]
  },
  {
   "cell_type": "code",
   "execution_count": 2,
   "metadata": {
    "hide_input": true,
    "init_cell": true
   },
   "outputs": [],
   "source": [
    "# Cell 2\n",
    "pandas.set_option(\"display.float_format\", \"{:0.0f}\".format)\n",
    "\n",
    "curr_evt_cell = 4\n",
    "set_evt_cell = 5\n",
    "all_evt_cell = 7\n",
    "add_evt_cell = 9\n",
    "del_evt_cell = 11\n",
    "\n",
    "def run_cell(cell):\n",
    "    jscript_cmd = \"Jupyter.notebook.execute_cells([\" + str(cell) + \"])\"\n",
    "    IPython.display.display_javascript(IPython.display.Javascript(jscript_cmd))"
   ]
  },
  {
   "cell_type": "markdown",
   "metadata": {
    "hide_input": true
   },
   "source": [
    "## Set Current Event"
   ]
  },
  {
   "cell_type": "code",
   "execution_count": 3,
   "metadata": {
    "hide_input": true,
    "init_cell": true
   },
   "outputs": [
    {
     "data": {
      "text/html": [
       "<font color='indigo'><h3>Event: wayak, 2018</h3><b>ID: </b>25167</font>"
      ],
      "text/plain": [
       "<IPython.core.display.HTML object>"
      ]
     },
     "execution_count": 3,
     "metadata": {},
     "output_type": "execute_result"
    }
   ],
   "source": [
    "# Cell 3\n",
    "curr_evt = sm_event.EventDal.get_current_event()\n",
    "evt_html = (\"<font color='indigo'><h3>Event: \" + curr_evt[1] + \", \" + curr_evt[2] + \"</h3>\" +\n",
    "            \"<b>ID: </b>\" + str(curr_evt[0]) + \"</font>\")\n",
    "IPython.display.HTML(evt_html)"
   ]
  },
  {
   "cell_type": "code",
   "execution_count": 4,
   "metadata": {
    "hide_input": true,
    "init_cell": true
   },
   "outputs": [
    {
     "data": {
      "text/plain": [
       "HBox(children=(Text(value='', description='Event'), IntText(value=2018, description='Season'), Button(descript…"
      ]
     },
     "metadata": {},
     "output_type": "display_data"
    }
   ],
   "source": [
    "# Cell 4\n",
    "event_set_txt = widgets.Text(description=\"Event\")\n",
    "season_set_itx = widgets.IntText(description=\"Season\", value=2018)\n",
    "set_btn = widgets.Button(description=\"SET EVENT\")\n",
    "IPython.display.display(widgets.HBox([event_set_txt, season_set_itx, set_btn]))\n",
    "\n",
    "def set_event(b):\n",
    "    sm_event.EventDal.set_current_event(event_set_txt.value, season_set_itx.value)\n",
    "    run_cell(curr_evt_cell)\n",
    "    run_cell(all_evt_cell)\n",
    "    \n",
    "set_btn.on_click(set_event)"
   ]
  },
  {
   "cell_type": "markdown",
   "metadata": {
    "hide_input": false
   },
   "source": [
    "## Events Currently In Database"
   ]
  },
  {
   "cell_type": "code",
   "execution_count": 5,
   "metadata": {
    "hide_input": true,
    "init_cell": true,
    "scrolled": false
   },
   "outputs": [
    {
     "data": {
      "text/html": [
       "<div>\n",
       "<style scoped>\n",
       "    .dataframe tbody tr th:only-of-type {\n",
       "        vertical-align: middle;\n",
       "    }\n",
       "\n",
       "    .dataframe tbody tr th {\n",
       "        vertical-align: top;\n",
       "    }\n",
       "\n",
       "    .dataframe thead th {\n",
       "        text-align: right;\n",
       "    }\n",
       "</style>\n",
       "<table border=\"1\" class=\"dataframe\">\n",
       "  <thead>\n",
       "    <tr style=\"text-align: right;\">\n",
       "      <th></th>\n",
       "      <th>id</th>\n",
       "      <th>name</th>\n",
       "      <th>state</th>\n",
       "      <th>type</th>\n",
       "      <th>season</th>\n",
       "      <th>measure_count</th>\n",
       "    </tr>\n",
       "  </thead>\n",
       "  <tbody>\n",
       "    <tr>\n",
       "      <th>0</th>\n",
       "      <td>15697</td>\n",
       "      <td>orwil</td>\n",
       "      <td>None</td>\n",
       "      <td>None</td>\n",
       "      <td>2017</td>\n",
       "      <td>nan</td>\n",
       "    </tr>\n",
       "    <tr>\n",
       "      <th>1</th>\n",
       "      <td>1417</td>\n",
       "      <td>wasno</td>\n",
       "      <td>None</td>\n",
       "      <td>None</td>\n",
       "      <td>2017</td>\n",
       "      <td>4960</td>\n",
       "    </tr>\n",
       "    <tr>\n",
       "      <th>2</th>\n",
       "      <td>1</td>\n",
       "      <td>waamv</td>\n",
       "      <td>None</td>\n",
       "      <td>None</td>\n",
       "      <td>2017</td>\n",
       "      <td>4961</td>\n",
       "    </tr>\n",
       "    <tr>\n",
       "      <th>3</th>\n",
       "      <td>9073</td>\n",
       "      <td>orore</td>\n",
       "      <td>None</td>\n",
       "      <td>None</td>\n",
       "      <td>2017</td>\n",
       "      <td>nan</td>\n",
       "    </tr>\n",
       "    <tr>\n",
       "      <th>4</th>\n",
       "      <td>18193</td>\n",
       "      <td>turing</td>\n",
       "      <td>None</td>\n",
       "      <td>None</td>\n",
       "      <td>2017</td>\n",
       "      <td>6151</td>\n",
       "    </tr>\n",
       "    <tr>\n",
       "      <th>5</th>\n",
       "      <td>7237</td>\n",
       "      <td>waell</td>\n",
       "      <td>None</td>\n",
       "      <td>None</td>\n",
       "      <td>2017</td>\n",
       "      <td>nan</td>\n",
       "    </tr>\n",
       "    <tr>\n",
       "      <th>6</th>\n",
       "      <td>11317</td>\n",
       "      <td>orlak</td>\n",
       "      <td>None</td>\n",
       "      <td>None</td>\n",
       "      <td>2017</td>\n",
       "      <td>nan</td>\n",
       "    </tr>\n",
       "    <tr>\n",
       "      <th>7</th>\n",
       "      <td>4249</td>\n",
       "      <td>waahs</td>\n",
       "      <td>None</td>\n",
       "      <td>None</td>\n",
       "      <td>2017</td>\n",
       "      <td>7467</td>\n",
       "    </tr>\n",
       "    <tr>\n",
       "      <th>8</th>\n",
       "      <td>11677</td>\n",
       "      <td>wamou</td>\n",
       "      <td>None</td>\n",
       "      <td>None</td>\n",
       "      <td>2017</td>\n",
       "      <td>nan</td>\n",
       "    </tr>\n",
       "    <tr>\n",
       "      <th>9</th>\n",
       "      <td>5089</td>\n",
       "      <td>pncmp</td>\n",
       "      <td>None</td>\n",
       "      <td>None</td>\n",
       "      <td>2017</td>\n",
       "      <td>14759</td>\n",
       "    </tr>\n",
       "    <tr>\n",
       "      <th>10</th>\n",
       "      <td>12013</td>\n",
       "      <td>waspo</td>\n",
       "      <td>None</td>\n",
       "      <td>None</td>\n",
       "      <td>2017</td>\n",
       "      <td>nan</td>\n",
       "    </tr>\n",
       "    <tr>\n",
       "      <th>11</th>\n",
       "      <td>23484</td>\n",
       "      <td>test_holoviews</td>\n",
       "      <td>XX</td>\n",
       "      <td>TEST</td>\n",
       "      <td>2018</td>\n",
       "      <td>672</td>\n",
       "    </tr>\n",
       "    <tr>\n",
       "      <th>12</th>\n",
       "      <td>25127</td>\n",
       "      <td>test_holoviews</td>\n",
       "      <td>None</td>\n",
       "      <td>None</td>\n",
       "      <td>1318</td>\n",
       "      <td>3139</td>\n",
       "    </tr>\n",
       "    <tr>\n",
       "      <th>13</th>\n",
       "      <td>25137</td>\n",
       "      <td>week0</td>\n",
       "      <td>None</td>\n",
       "      <td>None</td>\n",
       "      <td>2018</td>\n",
       "      <td>122</td>\n",
       "    </tr>\n",
       "    <tr>\n",
       "      <th>14</th>\n",
       "      <td>25154</td>\n",
       "      <td>wamou</td>\n",
       "      <td>None</td>\n",
       "      <td>None</td>\n",
       "      <td>2018</td>\n",
       "      <td>2680</td>\n",
       "    </tr>\n",
       "    <tr>\n",
       "      <th>15</th>\n",
       "      <td>25165</td>\n",
       "      <td>week0</td>\n",
       "      <td>None</td>\n",
       "      <td>None</td>\n",
       "      <td>2017</td>\n",
       "      <td>nan</td>\n",
       "    </tr>\n",
       "    <tr>\n",
       "      <th>16</th>\n",
       "      <td>25167</td>\n",
       "      <td>wayak</td>\n",
       "      <td>None</td>\n",
       "      <td>None</td>\n",
       "      <td>2018</td>\n",
       "      <td>2130</td>\n",
       "    </tr>\n",
       "    <tr>\n",
       "      <th>17</th>\n",
       "      <td>25178</td>\n",
       "      <td>waamv</td>\n",
       "      <td>None</td>\n",
       "      <td>None</td>\n",
       "      <td>2018</td>\n",
       "      <td>3072</td>\n",
       "    </tr>\n",
       "    <tr>\n",
       "      <th>18</th>\n",
       "      <td>25180</td>\n",
       "      <td>pncmp</td>\n",
       "      <td>None</td>\n",
       "      <td>None</td>\n",
       "      <td>2018</td>\n",
       "      <td>6858</td>\n",
       "    </tr>\n",
       "    <tr>\n",
       "      <th>19</th>\n",
       "      <td>25182</td>\n",
       "      <td>turing</td>\n",
       "      <td>None</td>\n",
       "      <td>None</td>\n",
       "      <td>2018</td>\n",
       "      <td>6332</td>\n",
       "    </tr>\n",
       "    <tr>\n",
       "      <th>20</th>\n",
       "      <td>25186</td>\n",
       "      <td>dummy1</td>\n",
       "      <td>None</td>\n",
       "      <td>None</td>\n",
       "      <td>1999</td>\n",
       "      <td>nan</td>\n",
       "    </tr>\n",
       "    <tr>\n",
       "      <th>21</th>\n",
       "      <td>25189</td>\n",
       "      <td>waiss</td>\n",
       "      <td>None</td>\n",
       "      <td>None</td>\n",
       "      <td>1318</td>\n",
       "      <td>3</td>\n",
       "    </tr>\n",
       "    <tr>\n",
       "      <th>22</th>\n",
       "      <td>25198</td>\n",
       "      <td>wayak</td>\n",
       "      <td>None</td>\n",
       "      <td>None</td>\n",
       "      <td>1318</td>\n",
       "      <td>nan</td>\n",
       "    </tr>\n",
       "  </tbody>\n",
       "</table>\n",
       "</div>"
      ],
      "text/plain": [
       "       id            name state  type season  measure_count\n",
       "0   15697           orwil  None  None   2017            nan\n",
       "1    1417           wasno  None  None   2017           4960\n",
       "2       1           waamv  None  None   2017           4961\n",
       "3    9073           orore  None  None   2017            nan\n",
       "4   18193          turing  None  None   2017           6151\n",
       "5    7237           waell  None  None   2017            nan\n",
       "6   11317           orlak  None  None   2017            nan\n",
       "7    4249           waahs  None  None   2017           7467\n",
       "8   11677           wamou  None  None   2017            nan\n",
       "9    5089           pncmp  None  None   2017          14759\n",
       "10  12013           waspo  None  None   2017            nan\n",
       "11  23484  test_holoviews    XX  TEST   2018            672\n",
       "12  25127  test_holoviews  None  None   1318           3139\n",
       "13  25137           week0  None  None   2018            122\n",
       "14  25154           wamou  None  None   2018           2680\n",
       "15  25165           week0  None  None   2017            nan\n",
       "16  25167           wayak  None  None   2018           2130\n",
       "17  25178           waamv  None  None   2018           3072\n",
       "18  25180           pncmp  None  None   2018           6858\n",
       "19  25182          turing  None  None   2018           6332\n",
       "20  25186          dummy1  None  None   1999            nan\n",
       "21  25189           waiss  None  None   1318              3\n",
       "22  25198           wayak  None  None   1318            nan"
      ]
     },
     "execution_count": 5,
     "metadata": {},
     "output_type": "execute_result"
    }
   ],
   "source": [
    "# Cell 7\n",
    "IPython.display.clear_output\n",
    "sv_dataframes.events_df()"
   ]
  },
  {
   "cell_type": "markdown",
   "metadata": {},
   "source": [
    "## Add Event"
   ]
  },
  {
   "cell_type": "code",
   "execution_count": 6,
   "metadata": {
    "hide_input": true,
    "init_cell": true,
    "scrolled": true
   },
   "outputs": [
    {
     "data": {
      "text/plain": [
       "HBox(children=(Text(value='', description='Event'), IntText(value=2018, description='Season'), Button(descript…"
      ]
     },
     "metadata": {},
     "output_type": "display_data"
    }
   ],
   "source": [
    "# Cell 9\n",
    "event_add_txt = widgets.Text(description=\"Event\")\n",
    "season_add_itx = widgets.IntText(description=\"Season\", value=2018)\n",
    "add_btn = widgets.Button(description=\"ADD EVENT\")\n",
    "IPython.display.display(widgets.HBox([event_add_txt, season_add_itx, add_btn]))\n",
    "\n",
    "def add_event(b):\n",
    "    sm_event.EventDal.set_current_event(event_add_txt.value, season_add_itx.value)\n",
    "    run_cell(all_evt_cell)\n",
    "    \n",
    "add_btn.on_click(add_event)"
   ]
  },
  {
   "cell_type": "markdown",
   "metadata": {
    "hide_input": true
   },
   "source": [
    "## Delete Event -- BE CAREFUL WITH THIS!!"
   ]
  },
  {
   "cell_type": "code",
   "execution_count": 7,
   "metadata": {
    "hide_input": true,
    "init_cell": true,
    "scrolled": true
   },
   "outputs": [
    {
     "data": {
      "text/plain": [
       "HBox(children=(Text(value='', description='Event'), IntText(value=2018, description='Season'), Button(descript…"
      ]
     },
     "metadata": {},
     "output_type": "display_data"
    }
   ],
   "source": [
    "# Cell 11\n",
    "event_del_txt = widgets.Text(description=\"Event\")\n",
    "season_del_itx = widgets.IntText(description=\"Season\", value=2018)\n",
    "del_btn = widgets.Button(description=\"DELETE EVENT\")\n",
    "IPython.display.display(widgets.HBox([event_del_txt, season_del_itx, del_btn]))\n",
    "\n",
    "def delete_event(b):\n",
    "    sm_event.EventDal.delete_event(event_del_txt.value, str(season_del_itx.value))\n",
    "    run_cell(all_evt_cell)\n",
    "    \n",
    "del_btn.on_click(delete_event)"
   ]
  }
 ],
 "metadata": {
  "kernelspec": {
   "display_name": "Python 3",
   "language": "python",
   "name": "python3"
  },
  "language_info": {
   "codemirror_mode": {
    "name": "ipython",
    "version": 3
   },
   "file_extension": ".py",
   "mimetype": "text/x-python",
   "name": "python",
   "nbconvert_exporter": "python",
   "pygments_lexer": "ipython3",
   "version": "3.7.5"
  },
  "widgets": {
   "application/vnd.jupyter.widget-state+json": {
    "state": {
     "2f78dc26f47e4368b1bddfeab8cd2863": {
      "model_module": "@jupyter-widgets/controls",
      "model_module_version": "1.0.0",
      "model_name": "ButtonModel",
      "state": {
       "description": "Generate Ranking Spreadsheet",
       "layout": "IPY_MODEL_592de10c472445a4b13c9325ef61a5a2",
       "style": "IPY_MODEL_496803917b0543128f0bb245921a9661"
      }
     },
     "496803917b0543128f0bb245921a9661": {
      "model_module": "@jupyter-widgets/controls",
      "model_module_version": "1.0.0",
      "model_name": "ButtonStyleModel",
      "state": {}
     },
     "592de10c472445a4b13c9325ef61a5a2": {
      "model_module": "@jupyter-widgets/base",
      "model_module_version": "1.0.0",
      "model_name": "LayoutModel",
      "state": {}
     },
     "908c21ab30f74a0a937c9587c1355142": {
      "model_module": "@jupyter-widgets/base",
      "model_module_version": "1.0.0",
      "model_name": "LayoutModel",
      "state": {}
     },
     "bb7e832db4a9431e9ac27fc623b0ea6f": {
      "model_module": "@jupyter-widgets/base",
      "model_module_version": "1.0.0",
      "model_name": "LayoutModel",
      "state": {}
     },
     "c14a1709a7da41efa4995816c17e0055": {
      "model_module": "@jupyter-widgets/controls",
      "model_module_version": "1.0.0",
      "model_name": "DescriptionStyleModel",
      "state": {
       "description_width": ""
      }
     },
     "c41756c0c9784eb0a508f60fb9c0441e": {
      "model_module": "@jupyter-widgets/controls",
      "model_module_version": "1.0.0",
      "model_name": "DescriptionStyleModel",
      "state": {
       "description_width": ""
      }
     },
     "df553e3141144ccc892936eac0bb9ae1": {
      "model_module": "@jupyter-widgets/controls",
      "model_module_version": "1.0.0",
      "model_name": "TextModel",
      "state": {
       "description": "Event",
       "layout": "IPY_MODEL_908c21ab30f74a0a937c9587c1355142",
       "style": "IPY_MODEL_c14a1709a7da41efa4995816c17e0055"
      }
     },
     "f5708f717ffd4b18bdc7982e99954876": {
      "model_module": "@jupyter-widgets/controls",
      "model_module_version": "1.0.0",
      "model_name": "IntTextModel",
      "state": {
       "description": "Season",
       "layout": "IPY_MODEL_bb7e832db4a9431e9ac27fc623b0ea6f",
       "step": 1,
       "style": "IPY_MODEL_c41756c0c9784eb0a508f60fb9c0441e",
       "value": 2018
      }
     }
    },
    "version_major": 2,
    "version_minor": 0
   }
  }
 },
 "nbformat": 4,
 "nbformat_minor": 2
}
